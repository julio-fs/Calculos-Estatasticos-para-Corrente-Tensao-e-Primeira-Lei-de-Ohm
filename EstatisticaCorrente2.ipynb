{
 "cells": [
  {
   "cell_type": "markdown",
   "metadata": {},
   "source": [
    "### <center>Módulos "
   ]
  },
  {
   "cell_type": "markdown",
   "metadata": {},
   "source": [
    "Importação do módulo $\\texttt{math}$ para realizar operações matemáticas."
   ]
  },
  {
   "cell_type": "code",
   "execution_count": 1,
   "metadata": {},
   "outputs": [],
   "source": [
    "import math"
   ]
  },
  {
   "cell_type": "markdown",
   "metadata": {},
   "source": [
    "Importação do módulo $\\texttt{uncertainties}$ para operações envolvendo incertezas."
   ]
  },
  {
   "cell_type": "code",
   "execution_count": 2,
   "metadata": {},
   "outputs": [],
   "source": [
    "from uncertainties import *"
   ]
  },
  {
   "cell_type": "markdown",
   "metadata": {},
   "source": [
    "### <center>Dados de Corrente"
   ]
  },
  {
   "cell_type": "markdown",
   "metadata": {},
   "source": [
    "As medidas de corrente foram agrupadas em listas contendo 5 medidas cada. Ao todo foram 100 medidas, gerando 20 listas."
   ]
  },
  {
   "cell_type": "code",
   "execution_count": 3,
   "metadata": {},
   "outputs": [],
   "source": [
    "C01 = [2.0000*10**(-6), 1.9000*10**(-6), 2.0000*10**(-6), 2.0000*10**(-6), 2.0000*10**(-6)];\n",
    "C02 = [2.0000*10**(-6), 2.1000*10**(-6), 2.0000*10**(-6), 2.0000*10**(-6), 1.9000*10**(-6)];\n",
    "C03 = [2.1000*10**(-6), 2.0000*10**(-6), 1.9000*10**(-6), 2.0000*10**(-6), 2.0000*10**(-6)];\n",
    "C04 = [2.0000*10**(-6), 2.0000*10**(-6), 2.0000*10**(-6), 2.0000*10**(-6), 2.0000*10**(-6)];\n",
    "C05 = [2.1000*10**(-6), 2.0000*10**(-6), 2.0000*10**(-6), 2.0000*10**(-6), 2.0000*10**(-6)];\n",
    "C06 = [1.9000*10**(-6), 2.0000*10**(-6), 2.1000*10**(-6), 2.0000*10**(-6), 2.0000*10**(-6)];\n",
    "C07 = [2.0000*10**(-6), 1.9000*10**(-6), 1.9000*10**(-6), 2.0000*10**(-6), 1.9000*10**(-6)];\n",
    "C08 = [2.0000*10**(-6), 2.0000*10**(-6), 2.0000*10**(-6), 2.0000*10**(-6), 2.0000*10**(-6)];\n",
    "C09 = [2.0000*10**(-6), 2.0000*10**(-6), 2.0000*10**(-6), 1.9000*10**(-6), 2.1000*10**(-6)];\n",
    "C10 = [2.1000*10**(-6), 2.0000*10**(-6), 2.0000*10**(-6), 2.0000*10**(-6), 2.0000*10**(-6)];\n",
    "C11 = [2.0000*10**(-6), 2.1000*10**(-6), 2.1000*10**(-6), 1.9000*10**(-6), 2.0000*10**(-6)];\n",
    "C12 = [2.0000*10**(-6), 2.0000*10**(-6), 2.0000*10**(-6), 2.0000*10**(-6), 2.0000*10**(-6)];\n",
    "C13 = [2.1000*10**(-6), 2.0000*10**(-6), 2.0000*10**(-6), 2.0000*10**(-6), 2.0000*10**(-6)];\n",
    "C14 = [2.0000*10**(-6), 2.0000*10**(-6), 2.0000*10**(-6), 2.0000*10**(-6), 2.0000*10**(-6)];\n",
    "C15 = [2.0000*10**(-6), 2.0000*10**(-6), 2.0000*10**(-6), 2.0000*10**(-6), 2.0000*10**(-6)];\n",
    "C16 = [2.0000*10**(-6), 1.9000*10**(-6), 2.1000*10**(-6), 1.9000*10**(-6), 2.1000*10**(-6)];\n",
    "C17 = [1.9000*10**(-6), 2.0000*10**(-6), 2.0000*10**(-6), 2.0000*10**(-6), 2.0000*10**(-6)];\n",
    "C18 = [2.1000*10**(-6), 2.0000*10**(-6), 2.1000*10**(-6), 2.0000*10**(-6), 2.0000*10**(-6)];\n",
    "C19 = [2.0000*10**(-6), 2.0000*10**(-6), 2.0000*10**(-6), 1.9000*10**(-6), 2.0000*10**(-6)];\n",
    "C20 = [2.0000*10**(-6), 1.9000*10**(-6), 2.0000*10**(-6), 2.0000*10**(-6), 2.0000*10**(-6)]"
   ]
  },
  {
   "cell_type": "markdown",
   "metadata": {},
   "source": [
    "### <center>Incertezas para as medidas de corrente"
   ]
  },
  {
   "cell_type": "markdown",
   "metadata": {},
   "source": [
    "Cada item de cada lista acima tem sua incerteza calculada de acordo com as instruções do manual do multímetro.\n",
    "\n",
    "$$\\frac{i}{100} + 3 \\cdot 10 ^{-7}$$\n",
    "\n",
    "onde $i$ é cada uma das medidas realizadas."
   ]
  },
  {
   "cell_type": "code",
   "execution_count": 4,
   "metadata": {},
   "outputs": [],
   "source": [
    "IC01 = list(map(lambda i: i*0.01 + 3*100*10**(-9), C01));\n",
    "IC02 = list(map(lambda i: i*0.01 + 3*100*10**(-9), C02));\n",
    "IC03 = list(map(lambda i: i*0.01 + 3*100*10**(-9), C03));\n",
    "IC04 = list(map(lambda i: i*0.01 + 3*100*10**(-9), C04));\n",
    "IC05 = list(map(lambda i: i*0.01 + 3*100*10**(-9), C05));\n",
    "IC06 = list(map(lambda i: i*0.01 + 3*100*10**(-9), C06));\n",
    "IC07 = list(map(lambda i: i*0.01 + 3*100*10**(-9), C07));\n",
    "IC08 = list(map(lambda i: i*0.01 + 3*100*10**(-9), C08));\n",
    "IC09 = list(map(lambda i: i*0.01 + 3*100*10**(-9), C09));\n",
    "IC10 = list(map(lambda i: i*0.01 + 3*100*10**(-9), C10));\n",
    "IC11 = list(map(lambda i: i*0.01 + 3*100*10**(-9), C11));\n",
    "IC12 = list(map(lambda i: i*0.01 + 3*100*10**(-9), C12));\n",
    "IC13 = list(map(lambda i: i*0.01 + 3*100*10**(-9), C13));\n",
    "IC14 = list(map(lambda i: i*0.01 + 3*100*10**(-9), C14));\n",
    "IC15 = list(map(lambda i: i*0.01 + 3*100*10**(-9), C15));\n",
    "IC16 = list(map(lambda i: i*0.01 + 3*100*10**(-9), C16));\n",
    "IC17 = list(map(lambda i: i*0.01 + 3*100*10**(-9), C17));\n",
    "IC18 = list(map(lambda i: i*0.01 + 3*100*10**(-9), C18));\n",
    "IC19 = list(map(lambda i: i*0.01 + 3*100*10**(-9), C19));\n",
    "IC20 = list(map(lambda i: i*0.01 + 3*100*10**(-9), C20));"
   ]
  },
  {
   "cell_type": "markdown",
   "metadata": {},
   "source": [
    "Apresentando a incerteza de cada medida, gerando 20 novas listas com 5 itens cada, porém somente de incertezas.  "
   ]
  },
  {
   "cell_type": "code",
   "execution_count": 5,
   "metadata": {},
   "outputs": [
    {
     "name": "stdout",
     "output_type": "stream",
     "text": [
      "[3.2000000000000006e-07, 3.1900000000000004e-07, 3.2000000000000006e-07, 3.2000000000000006e-07, 3.2000000000000006e-07]\n",
      "[3.2000000000000006e-07, 3.2100000000000003e-07, 3.2000000000000006e-07, 3.2000000000000006e-07, 3.1900000000000004e-07]\n",
      "[3.2100000000000003e-07, 3.2000000000000006e-07, 3.1900000000000004e-07, 3.2000000000000006e-07, 3.2000000000000006e-07]\n",
      "[3.2000000000000006e-07, 3.2000000000000006e-07, 3.2000000000000006e-07, 3.2000000000000006e-07, 3.2000000000000006e-07]\n",
      "[3.2100000000000003e-07, 3.2000000000000006e-07, 3.2000000000000006e-07, 3.2000000000000006e-07, 3.2000000000000006e-07]\n",
      "[3.1900000000000004e-07, 3.2000000000000006e-07, 3.2100000000000003e-07, 3.2000000000000006e-07, 3.2000000000000006e-07]\n",
      "[3.2000000000000006e-07, 3.1900000000000004e-07, 3.1900000000000004e-07, 3.2000000000000006e-07, 3.1900000000000004e-07]\n",
      "[3.2000000000000006e-07, 3.2000000000000006e-07, 3.2000000000000006e-07, 3.2000000000000006e-07, 3.2000000000000006e-07]\n",
      "[3.2000000000000006e-07, 3.2000000000000006e-07, 3.2000000000000006e-07, 3.1900000000000004e-07, 3.2100000000000003e-07]\n",
      "[3.2100000000000003e-07, 3.2000000000000006e-07, 3.2000000000000006e-07, 3.2000000000000006e-07, 3.2000000000000006e-07]\n",
      "[3.2000000000000006e-07, 3.2100000000000003e-07, 3.2100000000000003e-07, 3.1900000000000004e-07, 3.2000000000000006e-07]\n",
      "[3.2000000000000006e-07, 3.2000000000000006e-07, 3.2000000000000006e-07, 3.2000000000000006e-07, 3.2000000000000006e-07]\n",
      "[3.2100000000000003e-07, 3.2000000000000006e-07, 3.2000000000000006e-07, 3.2000000000000006e-07, 3.2000000000000006e-07]\n",
      "[3.2000000000000006e-07, 3.2000000000000006e-07, 3.2000000000000006e-07, 3.2000000000000006e-07, 3.2000000000000006e-07]\n",
      "[3.2000000000000006e-07, 3.2000000000000006e-07, 3.2000000000000006e-07, 3.2000000000000006e-07, 3.2000000000000006e-07]\n",
      "[3.2000000000000006e-07, 3.1900000000000004e-07, 3.2100000000000003e-07, 3.1900000000000004e-07, 3.2100000000000003e-07]\n",
      "[3.1900000000000004e-07, 3.2000000000000006e-07, 3.2000000000000006e-07, 3.2000000000000006e-07, 3.2000000000000006e-07]\n",
      "[3.2100000000000003e-07, 3.2000000000000006e-07, 3.2100000000000003e-07, 3.2000000000000006e-07, 3.2000000000000006e-07]\n",
      "[3.2000000000000006e-07, 3.2000000000000006e-07, 3.2000000000000006e-07, 3.1900000000000004e-07, 3.2000000000000006e-07]\n",
      "[3.2000000000000006e-07, 3.1900000000000004e-07, 3.2000000000000006e-07, 3.2000000000000006e-07, 3.2000000000000006e-07]\n"
     ]
    }
   ],
   "source": [
    "print(IC01);\n",
    "print(IC02);\n",
    "print(IC03);\n",
    "print(IC04);\n",
    "print(IC05);\n",
    "print(IC06);\n",
    "print(IC07);\n",
    "print(IC08);\n",
    "print(IC09);\n",
    "print(IC10);\n",
    "print(IC11);\n",
    "print(IC12);\n",
    "print(IC13);\n",
    "print(IC14);\n",
    "print(IC15);\n",
    "print(IC16);\n",
    "print(IC17);\n",
    "print(IC18);\n",
    "print(IC19);\n",
    "print(IC20)"
   ]
  },
  {
   "cell_type": "markdown",
   "metadata": {},
   "source": [
    "Associando cada medida a sua respectiva incerteza, através da função  𝚞𝚏𝚕𝚘𝚊𝚝 .\n",
    "\n",
    "𝚞𝚏𝚕𝚘𝚊𝚝(𝚖𝚎𝚍𝚒𝚍𝚊, 𝚒𝚗𝚌𝚎𝚛𝚝𝚎𝚣𝚊)"
   ]
  },
  {
   "cell_type": "code",
   "execution_count": 6,
   "metadata": {},
   "outputs": [],
   "source": [
    "D001 = ufloat(C01[0], IC01[0]);\n",
    "D002 = ufloat(C01[1], IC01[1]);\n",
    "D003 = ufloat(C01[2], IC01[2]);\n",
    "D004 = ufloat(C01[3], IC01[3]);\n",
    "D005 = ufloat(C01[4], IC01[4]);\n",
    "\n",
    "D006 = ufloat(C02[0], IC02[0]);\n",
    "D007 = ufloat(C02[1], IC02[1]);\n",
    "D008 = ufloat(C02[2], IC02[2]);\n",
    "D009 = ufloat(C02[3], IC02[3]);\n",
    "D010 = ufloat(C02[4], IC02[4]);\n",
    "\n",
    "D011 = ufloat(C03[0], IC03[0]);\n",
    "D012 = ufloat(C03[1], IC03[1]);\n",
    "D013 = ufloat(C03[2], IC03[2]);\n",
    "D014 = ufloat(C03[3], IC03[3]);\n",
    "D015 = ufloat(C03[4], IC03[4]);\n",
    "\n",
    "D016 = ufloat(C04[0], IC04[0]);\n",
    "D017 = ufloat(C04[1], IC04[1]);\n",
    "D018 = ufloat(C04[2], IC04[2]);\n",
    "D019 = ufloat(C04[3], IC04[3]);\n",
    "D020 = ufloat(C04[4], IC04[4]);\n",
    "\n",
    "D021 = ufloat(C05[0], IC05[0]);\n",
    "D022 = ufloat(C05[1], IC05[1]);\n",
    "D023 = ufloat(C05[2], IC05[2]);\n",
    "D024 = ufloat(C05[3], IC05[3]);\n",
    "D025 = ufloat(C05[4], IC05[4]);\n",
    "\n",
    "D026 = ufloat(C06[0], IC06[0]);\n",
    "D027 = ufloat(C06[1], IC06[1]);\n",
    "D028 = ufloat(C06[2], IC06[2]);\n",
    "D029 = ufloat(C06[3], IC06[3]);\n",
    "D030 = ufloat(C06[4], IC06[4]);\n",
    "\n",
    "D031 = ufloat(C07[0], IC07[0]);\n",
    "D032 = ufloat(C07[1], IC07[1]);\n",
    "D033 = ufloat(C07[2], IC07[2]);\n",
    "D034 = ufloat(C07[3], IC07[3]);\n",
    "D035 = ufloat(C07[4], IC07[4]);\n",
    "\n",
    "D036 = ufloat(C08[0], IC08[0]);\n",
    "D037 = ufloat(C08[1], IC08[1]);\n",
    "D038 = ufloat(C08[2], IC08[2]);\n",
    "D039 = ufloat(C08[3], IC08[3]);\n",
    "D040 = ufloat(C08[4], IC08[4]);\n",
    "\n",
    "D041 = ufloat(C09[0], IC09[0]);\n",
    "D042 = ufloat(C09[1], IC09[1]);\n",
    "D043 = ufloat(C09[2], IC09[2]);\n",
    "D044 = ufloat(C09[3], IC09[3]);\n",
    "D045 = ufloat(C09[4], IC09[4]);\n",
    "\n",
    "D046 = ufloat(C10[0], IC10[0]);\n",
    "D047 = ufloat(C10[1], IC10[1]);\n",
    "D048 = ufloat(C10[2], IC10[2]);\n",
    "D049 = ufloat(C10[3], IC10[3]);\n",
    "D050 = ufloat(C10[4], IC10[4]);\n",
    "\n",
    "D051 = ufloat(C11[0], IC11[0]);\n",
    "D052 = ufloat(C11[1], IC11[1]);\n",
    "D053 = ufloat(C11[2], IC11[2]);\n",
    "D054 = ufloat(C11[3], IC11[3]);\n",
    "D055 = ufloat(C11[4], IC11[4]);\n",
    "\n",
    "D056 = ufloat(C12[0], IC12[0]);\n",
    "D057 = ufloat(C12[1], IC12[1]);\n",
    "D058 = ufloat(C12[2], IC12[2]);\n",
    "D059 = ufloat(C12[3], IC12[3]);\n",
    "D060 = ufloat(C12[4], IC12[4]);\n",
    "\n",
    "D061 = ufloat(C13[0], IC13[0]);\n",
    "D062 = ufloat(C13[1], IC13[1]);\n",
    "D063 = ufloat(C13[2], IC13[2]);\n",
    "D064 = ufloat(C13[3], IC13[3]);\n",
    "D065 = ufloat(C13[4], IC13[4]);\n",
    "\n",
    "D066 = ufloat(C14[0], IC14[0]);\n",
    "D067 = ufloat(C14[1], IC14[1]);\n",
    "D068 = ufloat(C14[2], IC14[2]);\n",
    "D069 = ufloat(C14[3], IC14[3]);\n",
    "D070 = ufloat(C14[4], IC14[4]);\n",
    "\n",
    "D071 = ufloat(C15[0], IC15[0]);\n",
    "D072 = ufloat(C15[1], IC15[1]);\n",
    "D073 = ufloat(C15[2], IC15[2]);\n",
    "D074 = ufloat(C15[3], IC15[3]);\n",
    "D075 = ufloat(C15[4], IC15[4]);\n",
    "\n",
    "D076 = ufloat(C16[0], IC16[0]);\n",
    "D077 = ufloat(C16[1], IC16[1]);\n",
    "D078 = ufloat(C16[2], IC16[2]);\n",
    "D079 = ufloat(C16[3], IC16[3]);\n",
    "D080 = ufloat(C16[4], IC16[4]);\n",
    "\n",
    "D081 = ufloat(C17[0], IC17[0]);\n",
    "D082 = ufloat(C17[1], IC17[1]);\n",
    "D083 = ufloat(C17[2], IC17[2]);\n",
    "D084 = ufloat(C17[3], IC17[3]);\n",
    "D085 = ufloat(C17[4], IC17[4]);\n",
    "\n",
    "D086 = ufloat(C18[0], IC18[0]);\n",
    "D087 = ufloat(C18[1], IC18[1]);\n",
    "D088 = ufloat(C18[2], IC18[2]);\n",
    "D089 = ufloat(C18[3], IC18[3]);\n",
    "D090 = ufloat(C18[4], IC18[4]);\n",
    "\n",
    "D091 = ufloat(C19[0], IC19[0]);\n",
    "D092 = ufloat(C19[1], IC19[1]);\n",
    "D093 = ufloat(C19[2], IC19[2]);\n",
    "D094 = ufloat(C19[3], IC19[3]);\n",
    "D095 = ufloat(C19[4], IC19[4]);\n",
    "\n",
    "D096 = ufloat(C20[0], IC20[0]);\n",
    "D097 = ufloat(C20[1], IC20[1]);\n",
    "D098 = ufloat(C20[2], IC20[2]);\n",
    "D099 = ufloat(C20[3], IC20[3]);\n",
    "D100 = ufloat(C20[4], IC20[4]);"
   ]
  },
  {
   "cell_type": "markdown",
   "metadata": {},
   "source": [
    "### <center>Média de cada lista "
   ]
  },
  {
   "cell_type": "markdown",
   "metadata": {},
   "source": [
    "Equações do cálculo da média para as 5 medidas de corrente de cada lista."
   ]
  },
  {
   "cell_type": "code",
   "execution_count": 7,
   "metadata": {},
   "outputs": [],
   "source": [
    "MD01 = (D001 + D002 + D003 + D004 + D005)/5;\n",
    "\n",
    "MD02 = (D006 + D007 + D008 + D009 + D010)/5;\n",
    "\n",
    "MD03 = (D011 + D012 + D013 + D014 + D015)/5;\n",
    "\n",
    "MD04 = (D016 + D017 + D018 + D019 + D020)/5;\n",
    "\n",
    "MD05 = (D021 + D022 + D023 + D024 + D025)/5;\n",
    "\n",
    "MD06 = (D026 + D027 + D028 + D029 + D030)/5;\n",
    "\n",
    "MD07 = (D031 + D032 + D033 + D034 + D035)/5;\n",
    "\n",
    "MD08 = (D036 + D037 + D038 + D039 + D040)/5;\n",
    "\n",
    "MD09 = (D041 + D042 + D043 + D044 + D045)/5;\n",
    "\n",
    "MD10 = (D046 + D047 + D048 + D049 + D050)/5;\n",
    "\n",
    "MD11 = (D051 + D052 + D053 + D054 + D055)/5;\n",
    "\n",
    "MD12 = (D056 + D057 + D058 + D059 + D060)/5;\n",
    "\n",
    "MD13 = (D061 + D062 + D063 + D064 + D065)/5;\n",
    "\n",
    "MD14 = (D066 + D067 + D068 + D069 + D070)/5;\n",
    "\n",
    "MD15 = (D071 + D072 + D073 + D074 + D075)/5;\n",
    "\n",
    "MD16 = (D076 + D077 + D078 + D079 + D080)/5;\n",
    "\n",
    "MD17 = (D081 + D082 + D083 + D084 + D085)/5;\n",
    "\n",
    "MD18 = (D086 + D087 + D088 + D089 + D090)/5;\n",
    "\n",
    "MD19 = (D091 + D092 + D093 + D094 + D095)/5;\n",
    "\n",
    "MD20 = (D096 + D097 + D098 + D099 + D100)/5;"
   ]
  },
  {
   "cell_type": "markdown",
   "metadata": {},
   "source": [
    "Apresentando o resultado para cada equação acima."
   ]
  },
  {
   "cell_type": "code",
   "execution_count": 8,
   "metadata": {},
   "outputs": [
    {
     "name": "stdout",
     "output_type": "stream",
     "text": [
      "(1.9800+/-0.1430)e-06\n",
      "(2.0000+/-0.1431)e-06\n",
      "(2.0000+/-0.1431)e-06\n",
      "(2.0000+/-0.1431)e-06\n",
      "(2.0200+/-0.1432)e-06\n",
      "(2.0000+/-0.1431)e-06\n",
      "(1.9400+/-0.1428)e-06\n",
      "(2.0000+/-0.1431)e-06\n",
      "(2.0000+/-0.1431)e-06\n",
      "(2.0200+/-0.1432)e-06\n",
      "(2.0200+/-0.1432)e-06\n",
      "(2.0000+/-0.1431)e-06\n",
      "(2.0200+/-0.1432)e-06\n",
      "(2.0000+/-0.1431)e-06\n",
      "(2.0000+/-0.1431)e-06\n",
      "(2.0000+/-0.1431)e-06\n",
      "(1.9800+/-0.1430)e-06\n",
      "(2.0400+/-0.1433)e-06\n",
      "(1.9800+/-0.1430)e-06\n",
      "(1.9800+/-0.1430)e-06\n"
     ]
    }
   ],
   "source": [
    "print(\"{0:.4e}\".format(MD01));\n",
    "print(\"{0:.4e}\".format(MD02));\n",
    "print(\"{0:.4e}\".format(MD03));\n",
    "print(\"{0:.4e}\".format(MD04));\n",
    "print(\"{0:.4e}\".format(MD05));\n",
    "print(\"{0:.4e}\".format(MD06));\n",
    "print(\"{0:.4e}\".format(MD07));\n",
    "print(\"{0:.4e}\".format(MD08));\n",
    "print(\"{0:.4e}\".format(MD09));\n",
    "print(\"{0:.4e}\".format(MD10));\n",
    "print(\"{0:.4e}\".format(MD11));\n",
    "print(\"{0:.4e}\".format(MD12));\n",
    "print(\"{0:.4e}\".format(MD13));\n",
    "print(\"{0:.4e}\".format(MD14));\n",
    "print(\"{0:.4e}\".format(MD15));\n",
    "print(\"{0:.4e}\".format(MD16));\n",
    "print(\"{0:.4e}\".format(MD17));\n",
    "print(\"{0:.4e}\".format(MD18));\n",
    "print(\"{0:.4e}\".format(MD19));\n",
    "print(\"{0:.4e}\".format(MD20))"
   ]
  },
  {
   "cell_type": "markdown",
   "metadata": {},
   "source": [
    "### <center>Média da média de cada lista "
   ]
  },
  {
   "cell_type": "markdown",
   "metadata": {},
   "source": [
    "Associando cada resultado das médias calculadas acima, utilizando a função $\\texttt{ufloat}$. "
   ]
  },
  {
   "cell_type": "code",
   "execution_count": 9,
   "metadata": {},
   "outputs": [],
   "source": [
    "MC01 = ufloat(1.9800*10**(-6), 0.1430*10**(-6));\n",
    "MC02 = ufloat(2.0000*10**(-6), 0.1431*10**(-6));\n",
    "MC03 = ufloat(2.0000*10**(-6), 0.1431*10**(-6));\n",
    "MC04 = ufloat(2.0000*10**(-6), 0.1431*10**(-6));\n",
    "MC05 = ufloat(2.0200*10**(-6), 0.1432*10**(-6));\n",
    "MC06 = ufloat(2.0000*10**(-6), 0.1431*10**(-6));\n",
    "MC07 = ufloat(1.9400*10**(-6), 0.1428*10**(-6));\n",
    "MC08 = ufloat(2.0000*10**(-6), 0.1431*10**(-6));\n",
    "MC09 = ufloat(2.0000*10**(-6), 0.1431*10**(-6));\n",
    "MC10 = ufloat(2.0200*10**(-6), 0.1432*10**(-6));\n",
    "MC11 = ufloat(2.0200*10**(-6), 0.1432*10**(-6));\n",
    "MC12 = ufloat(2.0000*10**(-6), 0.1431*10**(-6));\n",
    "MC13 = ufloat(2.0200*10**(-6), 0.1432*10**(-6));\n",
    "MC14 = ufloat(2.0000*10**(-6), 0.1431*10**(-6));\n",
    "MC15 = ufloat(2.0000*10**(-6), 0.1431*10**(-6));\n",
    "MC16 = ufloat(2.0000*10**(-6), 0.1431*10**(-6));\n",
    "MC17 = ufloat(1.9800*10**(-6), 0.1430*10**(-6));\n",
    "MC18 = ufloat(2.0400*10**(-6), 0.1433*10**(-6));\n",
    "MC19 = ufloat(1.9800*10**(-6), 0.1430*10**(-6));\n",
    "MC20 = ufloat(1.9800*10**(-6), 0.1430*10**(-6));"
   ]
  },
  {
   "cell_type": "markdown",
   "metadata": {},
   "source": [
    "Equação para o cálculo da média para os valores da média de cada lista."
   ]
  },
  {
   "cell_type": "code",
   "execution_count": 10,
   "metadata": {},
   "outputs": [],
   "source": [
    "MDC = (MC01 + MC02 + MC03 + MC04 + MC05 + MC06 + MC07 + MC08 + MC09 + MC10 + \n",
    "       MC11 + MC12 + MC13 + MC14 + MC15 + MC16 + MC17 + MC18 + MC19 + MC20)/20;"
   ]
  },
  {
   "cell_type": "markdown",
   "metadata": {},
   "source": [
    "Exibindo o resultado final."
   ]
  },
  {
   "cell_type": "code",
   "execution_count": 11,
   "metadata": {},
   "outputs": [
    {
     "name": "stdout",
     "output_type": "stream",
     "text": [
      "(1.9990+/-0.0320)e-06\n"
     ]
    }
   ],
   "source": [
    "print(\"{0:.4e}\".format(MDC))"
   ]
  }
 ],
 "metadata": {
  "kernelspec": {
   "display_name": "Python 3",
   "language": "python",
   "name": "python3"
  },
  "language_info": {
   "codemirror_mode": {
    "name": "ipython",
    "version": 3
   },
   "file_extension": ".py",
   "mimetype": "text/x-python",
   "name": "python",
   "nbconvert_exporter": "python",
   "pygments_lexer": "ipython3",
   "version": "3.7.1"
  }
 },
 "nbformat": 4,
 "nbformat_minor": 2
}
