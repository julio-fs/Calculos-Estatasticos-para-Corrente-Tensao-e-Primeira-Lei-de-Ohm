{
 "cells": [
  {
   "cell_type": "markdown",
   "metadata": {},
   "source": [
    "### <center>Módulos "
   ]
  },
  {
   "cell_type": "markdown",
   "metadata": {},
   "source": [
    "Importação do módulo $\\texttt{math}$ para realizar operações matemáticas."
   ]
  },
  {
   "cell_type": "code",
   "execution_count": 1,
   "metadata": {},
   "outputs": [],
   "source": [
    "import math"
   ]
  },
  {
   "cell_type": "markdown",
   "metadata": {},
   "source": [
    "Importação do módulo $\\texttt{uncertainties}$ para operações envolvendo incertezas."
   ]
  },
  {
   "cell_type": "code",
   "execution_count": 2,
   "metadata": {},
   "outputs": [],
   "source": [
    "from uncertainties import *"
   ]
  },
  {
   "cell_type": "markdown",
   "metadata": {},
   "source": [
    "### <center>Dados de Corrente"
   ]
  },
  {
   "cell_type": "markdown",
   "metadata": {},
   "source": [
    "As medidas de tensão foram agrupadas em listas contendo 5 medidas cada. Ao todo foram 100 medidas, gerando 20 listas."
   ]
  },
  {
   "cell_type": "code",
   "execution_count": 3,
   "metadata": {},
   "outputs": [],
   "source": [
    "U01 = [0.463, 0.462, 0.459, 0.458, 0.462];\n",
    "U02 = [0.460, 0.463, 0.464, 0.458, 0.460];\n",
    "U03 = [0.462, 0.459, 0.459, 0.458, 0.459];\n",
    "U04 = [0.463, 0.461, 0.461, 0.461, 0.461];\n",
    "U05 = [0.462, 0.457, 0.460, 0.459, 0.460];\n",
    "U06 = [0.458, 0.454, 0.454, 0.454, 0.454];\n",
    "U07 = [0.455, 0.457, 0.456, 0.456, 0.457];\n",
    "U08 = [0.457, 0.457, 0.456, 0.456, 0.456];\n",
    "U09 = [0.457, 0.457, 0.457, 0.457, 0.457];\n",
    "U10 = [0.456, 0.456, 0.456, 0.456, 0.456];\n",
    "U11 = [0.457, 0.456, 0.459, 0.458, 0.457];\n",
    "U12 = [0.458, 0.459, 0.459, 0.459, 0.459];\n",
    "U13 = [0.457, 0.458, 0.457, 0.457, 0.458];\n",
    "U14 = [0.460, 0.459, 0.458, 0.458, 0.458];\n",
    "U15 = [0.458, 0.458, 0.456, 0.458, 0.458];\n",
    "U16 = [0.458, 0.459, 0.458, 0.458, 0.458];\n",
    "U17 = [0.458, 0.459, 0.459, 0.458, 0.459];\n",
    "U18 = [0.458, 0.459, 0.458, 0.458, 0.458];\n",
    "U19 = [0.460, 0.459, 0.459, 0.457, 0.459];\n",
    "U20 = [0.459, 0.458, 0.458, 0.458, 0.458]"
   ]
  },
  {
   "cell_type": "markdown",
   "metadata": {},
   "source": [
    "### <center>Incertezas para as medidas de tensão"
   ]
  },
  {
   "cell_type": "markdown",
   "metadata": {},
   "source": [
    "Cada item de cada lista acima tem sua incerteza calculada de acordo com as instruções do manual do multímetro.\n",
    "$$i\\cdot\\frac{5}{100}+3\\cdot10^{-3}$$"
   ]
  },
  {
   "cell_type": "code",
   "execution_count": 4,
   "metadata": {},
   "outputs": [],
   "source": [
    "IU01 = list(map(lambda i: i*0.005 + 3*10**(-3), U01));\n",
    "IU02 = list(map(lambda i: i*0.005 + 3*10**(-3), U02));\n",
    "IU03 = list(map(lambda i: i*0.005 + 3*10**(-3), U03));\n",
    "IU04 = list(map(lambda i: i*0.005 + 3*10**(-3), U04));\n",
    "IU05 = list(map(lambda i: i*0.005 + 3*10**(-3), U05));\n",
    "IU06 = list(map(lambda i: i*0.005 + 3*10**(-3), U06));\n",
    "IU07 = list(map(lambda i: i*0.005 + 3*10**(-3), U07));\n",
    "IU08 = list(map(lambda i: i*0.005 + 3*10**(-3), U08));\n",
    "IU09 = list(map(lambda i: i*0.005 + 3*10**(-3), U09));\n",
    "IU10 = list(map(lambda i: i*0.005 + 3*10**(-3), U10));\n",
    "IU11 = list(map(lambda i: i*0.005 + 3*10**(-3), U11));\n",
    "IU12 = list(map(lambda i: i*0.005 + 3*10**(-3), U12));\n",
    "IU13 = list(map(lambda i: i*0.005 + 3*10**(-3), U13));\n",
    "IU14 = list(map(lambda i: i*0.005 + 3*10**(-3), U14));\n",
    "IU15 = list(map(lambda i: i*0.005 + 3*10**(-3), U15));\n",
    "IU16 = list(map(lambda i: i*0.005 + 3*10**(-3), U16));\n",
    "IU17 = list(map(lambda i: i*0.005 + 3*10**(-3), U17));\n",
    "IU18 = list(map(lambda i: i*0.005 + 3*10**(-3), U18));\n",
    "IU19 = list(map(lambda i: i*0.005 + 3*10**(-3), U19));\n",
    "IU20 = list(map(lambda i: i*0.005 + 3*10**(-3), U20));"
   ]
  },
  {
   "cell_type": "markdown",
   "metadata": {},
   "source": [
    "Apresentando a incerteza de cada medida, gerando 20 novas listas com 5 itens cada, porém somente de incertezas.  "
   ]
  },
  {
   "cell_type": "code",
   "execution_count": 5,
   "metadata": {},
   "outputs": [
    {
     "name": "stdout",
     "output_type": "stream",
     "text": [
      "[0.005315, 0.0053100000000000005, 0.005295, 0.0052899999999999996, 0.0053100000000000005]\n",
      "[0.0053, 0.005315, 0.00532, 0.0052899999999999996, 0.0053]\n",
      "[0.0053100000000000005, 0.005295, 0.005295, 0.0052899999999999996, 0.005295]\n",
      "[0.005315, 0.005305000000000001, 0.005305000000000001, 0.005305000000000001, 0.005305000000000001]\n",
      "[0.0053100000000000005, 0.005285, 0.0053, 0.005295, 0.0053]\n",
      "[0.0052899999999999996, 0.00527, 0.00527, 0.00527, 0.00527]\n",
      "[0.005275, 0.005285, 0.00528, 0.00528, 0.005285]\n",
      "[0.005285, 0.005285, 0.00528, 0.00528, 0.00528]\n",
      "[0.005285, 0.005285, 0.005285, 0.005285, 0.005285]\n",
      "[0.00528, 0.00528, 0.00528, 0.00528, 0.00528]\n",
      "[0.005285, 0.00528, 0.005295, 0.0052899999999999996, 0.005285]\n",
      "[0.0052899999999999996, 0.005295, 0.005295, 0.005295, 0.005295]\n",
      "[0.005285, 0.0052899999999999996, 0.005285, 0.005285, 0.0052899999999999996]\n",
      "[0.0053, 0.005295, 0.0052899999999999996, 0.0052899999999999996, 0.0052899999999999996]\n",
      "[0.0052899999999999996, 0.0052899999999999996, 0.00528, 0.0052899999999999996, 0.0052899999999999996]\n",
      "[0.0052899999999999996, 0.005295, 0.0052899999999999996, 0.0052899999999999996, 0.0052899999999999996]\n",
      "[0.0052899999999999996, 0.005295, 0.005295, 0.0052899999999999996, 0.005295]\n",
      "[0.0052899999999999996, 0.005295, 0.0052899999999999996, 0.0052899999999999996, 0.0052899999999999996]\n",
      "[0.0053, 0.005295, 0.005295, 0.005285, 0.005295]\n",
      "[0.005295, 0.0052899999999999996, 0.0052899999999999996, 0.0052899999999999996, 0.0052899999999999996]\n"
     ]
    }
   ],
   "source": [
    "print(IU01);\n",
    "print(IU02);\n",
    "print(IU03);\n",
    "print(IU04);\n",
    "print(IU05);\n",
    "print(IU06);\n",
    "print(IU07);\n",
    "print(IU08);\n",
    "print(IU09);\n",
    "print(IU10);\n",
    "print(IU11);\n",
    "print(IU12);\n",
    "print(IU13);\n",
    "print(IU14);\n",
    "print(IU15);\n",
    "print(IU16);\n",
    "print(IU17);\n",
    "print(IU18);\n",
    "print(IU19);\n",
    "print(IU20)"
   ]
  },
  {
   "cell_type": "markdown",
   "metadata": {},
   "source": [
    "Associando cada medida a sua respectiva incerteza, através da função $\\texttt{ufloat}$.\n",
    "\n",
    "$$\\texttt{ufloat(medida, incerteza)}$$"
   ]
  },
  {
   "cell_type": "code",
   "execution_count": 6,
   "metadata": {},
   "outputs": [],
   "source": [
    "D001 = ufloat(U01[0], IU01[0]);\n",
    "D002 = ufloat(U01[1], IU01[1]);\n",
    "D003 = ufloat(U01[2], IU01[2]);\n",
    "D004 = ufloat(U01[3], IU01[3]);\n",
    "D005 = ufloat(U01[4], IU01[4]);\n",
    "\n",
    "D006 = ufloat(U02[0], IU02[0]);\n",
    "D007 = ufloat(U02[1], IU02[1]);\n",
    "D008 = ufloat(U02[2], IU02[2]);\n",
    "D009 = ufloat(U02[3], IU02[3]);\n",
    "D010 = ufloat(U02[4], IU02[4]);\n",
    "\n",
    "D011 = ufloat(U03[0], IU03[0]);\n",
    "D012 = ufloat(U03[1], IU03[1]);\n",
    "D013 = ufloat(U03[2], IU03[2]);\n",
    "D014 = ufloat(U03[3], IU03[3]);\n",
    "D015 = ufloat(U03[4], IU03[4]);\n",
    "\n",
    "D016 = ufloat(U04[0], IU04[0]);\n",
    "D017 = ufloat(U04[1], IU04[1]);\n",
    "D018 = ufloat(U04[2], IU04[2]);\n",
    "D019 = ufloat(U04[3], IU04[3]);\n",
    "D020 = ufloat(U04[4], IU04[4]);\n",
    "\n",
    "D021 = ufloat(U05[0], IU05[0]);\n",
    "D022 = ufloat(U05[1], IU05[1]);\n",
    "D023 = ufloat(U05[2], IU05[2]);\n",
    "D024 = ufloat(U05[3], IU05[3]);\n",
    "D025 = ufloat(U05[4], IU05[4]);\n",
    "\n",
    "D026 = ufloat(U06[0], IU06[0]);\n",
    "D027 = ufloat(U06[1], IU06[1]);\n",
    "D028 = ufloat(U06[2], IU06[2]);\n",
    "D029 = ufloat(U06[3], IU06[3]);\n",
    "D030 = ufloat(U06[4], IU06[4]);\n",
    "\n",
    "D031 = ufloat(U07[0], IU07[0]);\n",
    "D032 = ufloat(U07[1], IU07[1]);\n",
    "D033 = ufloat(U07[2], IU07[2]);\n",
    "D034 = ufloat(U07[3], IU07[3]);\n",
    "D035 = ufloat(U07[4], IU07[4]);\n",
    "\n",
    "D036 = ufloat(U08[0], IU08[0]);\n",
    "D037 = ufloat(U08[1], IU08[1]);\n",
    "D038 = ufloat(U08[2], IU08[2]);\n",
    "D039 = ufloat(U08[3], IU08[3]);\n",
    "D040 = ufloat(U08[4], IU08[4]);\n",
    "\n",
    "D041 = ufloat(U09[0], IU09[0]);\n",
    "D042 = ufloat(U09[1], IU09[1]);\n",
    "D043 = ufloat(U09[2], IU09[2]);\n",
    "D044 = ufloat(U09[3], IU09[3]);\n",
    "D045 = ufloat(U09[4], IU09[4]);\n",
    "\n",
    "D046 = ufloat(U10[0], IU10[0]);\n",
    "D047 = ufloat(U10[1], IU10[1]);\n",
    "D048 = ufloat(U10[2], IU10[2]);\n",
    "D049 = ufloat(U10[3], IU10[3]);\n",
    "D050 = ufloat(U10[4], IU10[4]);\n",
    "\n",
    "D051 = ufloat(U11[0], IU11[0]);\n",
    "D052 = ufloat(U11[1], IU11[1]);\n",
    "D053 = ufloat(U11[2], IU11[2]);\n",
    "D054 = ufloat(U11[3], IU11[3]);\n",
    "D055 = ufloat(U11[4], IU11[4]);\n",
    "\n",
    "D056 = ufloat(U12[0], IU12[0]);\n",
    "D057 = ufloat(U12[1], IU12[1]);\n",
    "D058 = ufloat(U12[2], IU12[2]);\n",
    "D059 = ufloat(U12[3], IU12[3]);\n",
    "D060 = ufloat(U12[4], IU12[4]);\n",
    "\n",
    "D061 = ufloat(U13[0], IU13[0]);\n",
    "D062 = ufloat(U13[1], IU13[1]);\n",
    "D063 = ufloat(U13[2], IU13[2]);\n",
    "D064 = ufloat(U13[3], IU13[3]);\n",
    "D065 = ufloat(U13[4], IU13[4]);\n",
    "\n",
    "D066 = ufloat(U14[0], IU14[0]);\n",
    "D067 = ufloat(U14[1], IU14[1]);\n",
    "D068 = ufloat(U14[2], IU14[2]);\n",
    "D069 = ufloat(U14[3], IU14[3]);\n",
    "D070 = ufloat(U14[4], IU14[4]);\n",
    "\n",
    "D071 = ufloat(U15[0], IU15[0]);\n",
    "D072 = ufloat(U15[1], IU15[1]);\n",
    "D073 = ufloat(U15[2], IU15[2]);\n",
    "D074 = ufloat(U15[3], IU15[3]);\n",
    "D075 = ufloat(U15[4], IU15[4]);\n",
    "\n",
    "D076 = ufloat(U16[0], IU16[0]);\n",
    "D077 = ufloat(U16[1], IU16[1]);\n",
    "D078 = ufloat(U16[2], IU16[2]);\n",
    "D079 = ufloat(U16[3], IU16[3]);\n",
    "D080 = ufloat(U16[4], IU16[4]);\n",
    "\n",
    "D081 = ufloat(U17[0], IU17[0]);\n",
    "D082 = ufloat(U17[1], IU17[1]);\n",
    "D083 = ufloat(U17[2], IU17[2]);\n",
    "D084 = ufloat(U17[3], IU17[3]);\n",
    "D085 = ufloat(U17[4], IU17[4]);\n",
    "\n",
    "D086 = ufloat(U18[0], IU18[0]);\n",
    "D087 = ufloat(U18[1], IU18[1]);\n",
    "D088 = ufloat(U18[2], IU18[2]);\n",
    "D089 = ufloat(U18[3], IU18[3]);\n",
    "D090 = ufloat(U18[4], IU18[4]);\n",
    "\n",
    "D091 = ufloat(U19[0], IU19[0]);\n",
    "D092 = ufloat(U19[1], IU19[1]);\n",
    "D093 = ufloat(U19[2], IU19[2]);\n",
    "D094 = ufloat(U19[3], IU19[3]);\n",
    "D095 = ufloat(U19[4], IU19[4]);\n",
    "\n",
    "D096 = ufloat(U20[0], IU20[0]);\n",
    "D097 = ufloat(U20[1], IU20[1]);\n",
    "D098 = ufloat(U20[2], IU20[2]);\n",
    "D099 = ufloat(U20[3], IU20[3]);\n",
    "D100 = ufloat(U20[4], IU20[4]);"
   ]
  },
  {
   "cell_type": "markdown",
   "metadata": {},
   "source": [
    "### <center>Média de cada lista "
   ]
  },
  {
   "cell_type": "markdown",
   "metadata": {},
   "source": [
    "Equações do cálculo da média para as 5 medidas de tensão de cada lista."
   ]
  },
  {
   "cell_type": "code",
   "execution_count": 7,
   "metadata": {},
   "outputs": [],
   "source": [
    "MD01 = (D001 + D002 + D003 + D004 + D005)/5;\n",
    "\n",
    "MD02 = (D006 + D007 + D008 + D009 + D010)/5;\n",
    "\n",
    "MD03 = (D011 + D012 + D013 + D014 + D015)/5;\n",
    "\n",
    "MD04 = (D016 + D017 + D018 + D019 + D020)/5;\n",
    "\n",
    "MD05 = (D021 + D022 + D023 + D024 + D025)/5;\n",
    "\n",
    "MD06 = (D026 + D027 + D028 + D029 + D030)/5;\n",
    "\n",
    "MD07 = (D031 + D032 + D033 + D034 + D035)/5;\n",
    "\n",
    "MD08 = (D036 + D037 + D038 + D039 + D040)/5;\n",
    "\n",
    "MD09 = (D041 + D042 + D043 + D044 + D045)/5;\n",
    "\n",
    "MD10 = (D046 + D047 + D048 + D049 + D050)/5;\n",
    "\n",
    "MD11 = (D051 + D052 + D053 + D054 + D055)/5;\n",
    "\n",
    "MD12 = (D056 + D057 + D058 + D059 + D060)/5;\n",
    "\n",
    "MD13 = (D061 + D062 + D063 + D064 + D065)/5;\n",
    "\n",
    "MD14 = (D066 + D067 + D068 + D069 + D070)/5;\n",
    "\n",
    "MD15 = (D071 + D072 + D073 + D074 + D075)/5;\n",
    "\n",
    "MD16 = (D076 + D077 + D078 + D079 + D080)/5;\n",
    "\n",
    "MD17 = (D081 + D082 + D083 + D084 + D085)/5;\n",
    "\n",
    "MD18 = (D086 + D087 + D088 + D089 + D090)/5;\n",
    "\n",
    "MD19 = (D091 + D092 + D093 + D094 + D095)/5;\n",
    "\n",
    "MD20 = (D096 + D097 + D098 + D099 + D100)/5;"
   ]
  },
  {
   "cell_type": "markdown",
   "metadata": {},
   "source": [
    "Apresentando o resultado para cada equação acima."
   ]
  },
  {
   "cell_type": "code",
   "execution_count": 8,
   "metadata": {},
   "outputs": [
    {
     "name": "stdout",
     "output_type": "stream",
     "text": [
      "0.4608+/-0.0024\n",
      "0.4610+/-0.0024\n",
      "0.4594+/-0.0024\n",
      "0.4614+/-0.0024\n",
      "0.4596+/-0.0024\n",
      "0.4548+/-0.0024\n",
      "0.4562+/-0.0024\n",
      "0.4564+/-0.0024\n",
      "0.4570+/-0.0024\n",
      "0.4560+/-0.0024\n",
      "0.4574+/-0.0024\n",
      "0.4588+/-0.0024\n",
      "0.4574+/-0.0024\n",
      "0.4586+/-0.0024\n",
      "0.4576+/-0.0024\n",
      "0.4582+/-0.0024\n",
      "0.4586+/-0.0024\n",
      "0.4582+/-0.0024\n",
      "0.4588+/-0.0024\n",
      "0.4582+/-0.0024\n"
     ]
    }
   ],
   "source": [
    "print(\"{0:.4f}\".format(MD01));\n",
    "print(\"{0:.4f}\".format(MD02));\n",
    "print(\"{0:.4f}\".format(MD03));\n",
    "print(\"{0:.4f}\".format(MD04));\n",
    "print(\"{0:.4f}\".format(MD05));\n",
    "print(\"{0:.4f}\".format(MD06));\n",
    "print(\"{0:.4f}\".format(MD07));\n",
    "print(\"{0:.4f}\".format(MD08));\n",
    "print(\"{0:.4f}\".format(MD09));\n",
    "print(\"{0:.4f}\".format(MD10));\n",
    "print(\"{0:.4f}\".format(MD11));\n",
    "print(\"{0:.4f}\".format(MD12));\n",
    "print(\"{0:.4f}\".format(MD13));\n",
    "print(\"{0:.4f}\".format(MD14));\n",
    "print(\"{0:.4f}\".format(MD15));\n",
    "print(\"{0:.4f}\".format(MD16));\n",
    "print(\"{0:.4f}\".format(MD17));\n",
    "print(\"{0:.4f}\".format(MD18));\n",
    "print(\"{0:.4f}\".format(MD19));\n",
    "print(\"{0:.4f}\".format(MD20))"
   ]
  },
  {
   "cell_type": "markdown",
   "metadata": {},
   "source": [
    "### <center>Média da média de cada lista "
   ]
  },
  {
   "cell_type": "markdown",
   "metadata": {},
   "source": [
    "Associando cada resultado das médias calculadas acima, utilizando a função $\\texttt{ufloat}$. "
   ]
  },
  {
   "cell_type": "code",
   "execution_count": 9,
   "metadata": {},
   "outputs": [],
   "source": [
    "MU01 = ufloat(0.461,0.002);\n",
    "MU02 = ufloat(0.461,0.002);\n",
    "MU03 = ufloat(0.459,0.002);\n",
    "MU04 = ufloat(0.461,0.002);\n",
    "MU05 = ufloat(0.460,0.002);\n",
    "MU06 = ufloat(0.455,0.002);\n",
    "MU07 = ufloat(0.456,0.002);\n",
    "MU08 = ufloat(0.456,0.002);\n",
    "MU09 = ufloat(0.457,0.002);\n",
    "MU10 = ufloat(0.456,0.002);\n",
    "MU11 = ufloat(0.457,0.002);\n",
    "MU12 = ufloat(0.459,0.002);\n",
    "MU13 = ufloat(0.457,0.002);\n",
    "MU14 = ufloat(0.459,0.002);\n",
    "MU15 = ufloat(0.458,0.002);\n",
    "MU16 = ufloat(0.458,0.002);\n",
    "MU17 = ufloat(0.459,0.002);\n",
    "MU18 = ufloat(0.458,0.002);\n",
    "MU19 = ufloat(0.459,0.002);\n",
    "MU20 = ufloat(0.458,0.002);"
   ]
  },
  {
   "cell_type": "markdown",
   "metadata": {},
   "source": [
    "Equação para o cálculo da média para os valores da média de cada lista."
   ]
  },
  {
   "cell_type": "code",
   "execution_count": 10,
   "metadata": {},
   "outputs": [],
   "source": [
    "MDU = (MU01 + MU02 + MU03 + MU04 + MU05 + MU06 + MU07 + MU08 + MU09 + MU10 + \n",
    "       MU11 + MU12 + MU13 + MU14 + MU15 + MU16 + MU17 + MU18 + MU19 + MU20)/20;"
   ]
  },
  {
   "cell_type": "markdown",
   "metadata": {},
   "source": [
    "Exibindo o resultado final."
   ]
  },
  {
   "cell_type": "code",
   "execution_count": 11,
   "metadata": {},
   "outputs": [
    {
     "name": "stdout",
     "output_type": "stream",
     "text": [
      "0.4582+/-0.0004\n"
     ]
    }
   ],
   "source": [
    "print(\"{0:.4f}\".format(MDU))"
   ]
  }
 ],
 "metadata": {
  "kernelspec": {
   "display_name": "Python 3",
   "language": "python",
   "name": "python3"
  },
  "language_info": {
   "codemirror_mode": {
    "name": "ipython",
    "version": 3
   },
   "file_extension": ".py",
   "mimetype": "text/x-python",
   "name": "python",
   "nbconvert_exporter": "python",
   "pygments_lexer": "ipython3",
   "version": "3.7.1"
  }
 },
 "nbformat": 4,
 "nbformat_minor": 2
}
