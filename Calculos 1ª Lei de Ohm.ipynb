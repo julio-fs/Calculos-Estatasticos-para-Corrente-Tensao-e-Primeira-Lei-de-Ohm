{
 "cells": [
  {
   "cell_type": "markdown",
   "metadata": {},
   "source": [
    "Importação do módulo $\\texttt{math}$ para realizar operações matemáticas"
   ]
  },
  {
   "cell_type": "code",
   "execution_count": 1,
   "metadata": {},
   "outputs": [],
   "source": [
    "import math"
   ]
  },
  {
   "cell_type": "markdown",
   "metadata": {},
   "source": [
    "Importação do módulo $\\texttt{uncertainties}$ para operações envolvendo incertezas."
   ]
  },
  {
   "cell_type": "code",
   "execution_count": 2,
   "metadata": {},
   "outputs": [],
   "source": [
    "from uncertainties import *"
   ]
  },
  {
   "cell_type": "markdown",
   "metadata": {},
   "source": [
    "Associando cada resultado das médias calculadas acima, utilizando a função $\\texttt{ufloat}$\n",
    "\n",
    "Os dados para as correntes podem ser obtidos nos arquivos EstatisticaCorrente1.ipynb e EstatisticaCorrente2.ipynb\n",
    "\n",
    "Para a incerteza dos resistores foi utilizado 5\\% da medida. "
   ]
  },
  {
   "cell_type": "code",
   "execution_count": 3,
   "metadata": {},
   "outputs": [],
   "source": [
    "C1 = ufloat(8.1710e-5, 0.0112e-5)\n",
    "\n",
    "C2 = ufloat(1.9990e-6, 0.0320e-6)\n",
    "\n",
    "R1 = ufloat(1016.00, 50.8)\n",
    "\n",
    "R2 = ufloat(222000,11100)"
   ]
  },
  {
   "cell_type": "markdown",
   "metadata": {},
   "source": [
    "Equações par o cálculo de tensão via Lei de Ohm"
   ]
  },
  {
   "cell_type": "code",
   "execution_count": 4,
   "metadata": {},
   "outputs": [],
   "source": [
    "U1 = R1 * C1\n",
    "\n",
    "U2 = R2 * C2"
   ]
  },
  {
   "cell_type": "markdown",
   "metadata": {},
   "source": [
    "Exibindo o resultado final"
   ]
  },
  {
   "cell_type": "code",
   "execution_count": 5,
   "metadata": {},
   "outputs": [
    {
     "name": "stdout",
     "output_type": "stream",
     "text": [
      "0.0830+/-0.0042\n",
      "0.4438+/-0.0233\n"
     ]
    }
   ],
   "source": [
    "print(\"{0:.4f}\".format(U1))\n",
    "\n",
    "print(\"{0:.4f}\".format(U2))"
   ]
  }
 ],
 "metadata": {
  "kernelspec": {
   "display_name": "Python 3",
   "language": "python",
   "name": "python3"
  },
  "language_info": {
   "codemirror_mode": {
    "name": "ipython",
    "version": 3
   },
   "file_extension": ".py",
   "mimetype": "text/x-python",
   "name": "python",
   "nbconvert_exporter": "python",
   "pygments_lexer": "ipython3",
   "version": "3.7.1"
  }
 },
 "nbformat": 4,
 "nbformat_minor": 2
}
